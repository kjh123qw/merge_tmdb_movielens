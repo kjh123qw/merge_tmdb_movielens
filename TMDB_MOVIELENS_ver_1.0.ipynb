{
 "cells": [
  {
   "cell_type": "markdown",
   "metadata": {},
   "source": [
    "## TMLDB와 MOVIE LENS 데이터 합치기"
   ]
  },
  {
   "cell_type": "code",
   "execution_count": 1,
   "metadata": {},
   "outputs": [],
   "source": [
    "import pandas as pd\n",
    "from IPython.display import clear_output\n",
    "import math\n",
    "import os\n",
    "import time"
   ]
  },
  {
   "cell_type": "markdown",
   "metadata": {},
   "source": [
    "### 1. 데이터 로드\n",
    "\n",
    "- movies.csv : ML\n",
    "- movies_metadata_en.xlsx : TM"
   ]
  },
  {
   "cell_type": "code",
   "execution_count": 2,
   "metadata": {},
   "outputs": [
    {
     "name": "stderr",
     "output_type": "stream",
     "text": [
      "C:\\Users\\dell\\AppData\\Local\\Temp/ipykernel_27720/3668427069.py:2: FutureWarning: Inferring datetime64[ns] from data containing strings is deprecated and will be removed in a future version. To retain the old behavior explicitly pass Series(data, dtype={value.dtype})\n",
      "  tm_df = pd.read_excel(\"db/movies_metadata_en.xlsx\")\n"
     ]
    }
   ],
   "source": [
    "ml_df = pd.read_csv(\"db/movies.csv\")\n",
    "tm_df = pd.read_excel(\"db/movies_metadata_en.xlsx\")"
   ]
  },
  {
   "cell_type": "markdown",
   "metadata": {},
   "source": [
    "### 2. 데이터 확인"
   ]
  },
  {
   "cell_type": "code",
   "execution_count": 3,
   "metadata": {
    "scrolled": true
   },
   "outputs": [
    {
     "data": {
      "text/plain": [
       "Index(['adult', 'belongs_to_collection', 'budget', 'genres', 'homepage', 'id',\n",
       "       'imdb_id', 'original_language', 'original_title', 'overview',\n",
       "       'popularity', 'poster_path', 'production_companies',\n",
       "       'production_countries', 'release_date', 'revenue', 'runtime',\n",
       "       'spoken_languages', 'status', 'tagline', 'title', 'video',\n",
       "       'vote_average', 'vote_count'],\n",
       "      dtype='object')"
      ]
     },
     "execution_count": 3,
     "metadata": {},
     "output_type": "execute_result"
    }
   ],
   "source": [
    "tm_df.columns"
   ]
  },
  {
   "cell_type": "code",
   "execution_count": 4,
   "metadata": {
    "scrolled": true
   },
   "outputs": [
    {
     "data": {
      "text/html": [
       "<div>\n",
       "<style scoped>\n",
       "    .dataframe tbody tr th:only-of-type {\n",
       "        vertical-align: middle;\n",
       "    }\n",
       "\n",
       "    .dataframe tbody tr th {\n",
       "        vertical-align: top;\n",
       "    }\n",
       "\n",
       "    .dataframe thead th {\n",
       "        text-align: right;\n",
       "    }\n",
       "</style>\n",
       "<table border=\"1\" class=\"dataframe\">\n",
       "  <thead>\n",
       "    <tr style=\"text-align: right;\">\n",
       "      <th></th>\n",
       "      <th>movieId</th>\n",
       "      <th>title</th>\n",
       "      <th>genres</th>\n",
       "    </tr>\n",
       "  </thead>\n",
       "  <tbody>\n",
       "    <tr>\n",
       "      <th>0</th>\n",
       "      <td>1</td>\n",
       "      <td>Toy Story (1995)</td>\n",
       "      <td>Adventure|Animation|Children|Comedy|Fantasy</td>\n",
       "    </tr>\n",
       "    <tr>\n",
       "      <th>1</th>\n",
       "      <td>2</td>\n",
       "      <td>Jumanji (1995)</td>\n",
       "      <td>Adventure|Children|Fantasy</td>\n",
       "    </tr>\n",
       "    <tr>\n",
       "      <th>2</th>\n",
       "      <td>3</td>\n",
       "      <td>Grumpier Old Men (1995)</td>\n",
       "      <td>Comedy|Romance</td>\n",
       "    </tr>\n",
       "    <tr>\n",
       "      <th>3</th>\n",
       "      <td>4</td>\n",
       "      <td>Waiting to Exhale (1995)</td>\n",
       "      <td>Comedy|Drama|Romance</td>\n",
       "    </tr>\n",
       "    <tr>\n",
       "      <th>4</th>\n",
       "      <td>5</td>\n",
       "      <td>Father of the Bride Part II (1995)</td>\n",
       "      <td>Comedy</td>\n",
       "    </tr>\n",
       "    <tr>\n",
       "      <th>5</th>\n",
       "      <td>6</td>\n",
       "      <td>Heat (1995)</td>\n",
       "      <td>Action|Crime|Thriller</td>\n",
       "    </tr>\n",
       "    <tr>\n",
       "      <th>6</th>\n",
       "      <td>7</td>\n",
       "      <td>Sabrina (1995)</td>\n",
       "      <td>Comedy|Romance</td>\n",
       "    </tr>\n",
       "    <tr>\n",
       "      <th>7</th>\n",
       "      <td>8</td>\n",
       "      <td>Tom and Huck (1995)</td>\n",
       "      <td>Adventure|Children</td>\n",
       "    </tr>\n",
       "    <tr>\n",
       "      <th>8</th>\n",
       "      <td>9</td>\n",
       "      <td>Sudden Death (1995)</td>\n",
       "      <td>Action</td>\n",
       "    </tr>\n",
       "    <tr>\n",
       "      <th>9</th>\n",
       "      <td>10</td>\n",
       "      <td>GoldenEye (1995)</td>\n",
       "      <td>Action|Adventure|Thriller</td>\n",
       "    </tr>\n",
       "    <tr>\n",
       "      <th>10</th>\n",
       "      <td>11</td>\n",
       "      <td>American President, The (1995)</td>\n",
       "      <td>Comedy|Drama|Romance</td>\n",
       "    </tr>\n",
       "  </tbody>\n",
       "</table>\n",
       "</div>"
      ],
      "text/plain": [
       "    movieId                               title  \\\n",
       "0         1                    Toy Story (1995)   \n",
       "1         2                      Jumanji (1995)   \n",
       "2         3             Grumpier Old Men (1995)   \n",
       "3         4            Waiting to Exhale (1995)   \n",
       "4         5  Father of the Bride Part II (1995)   \n",
       "5         6                         Heat (1995)   \n",
       "6         7                      Sabrina (1995)   \n",
       "7         8                 Tom and Huck (1995)   \n",
       "8         9                 Sudden Death (1995)   \n",
       "9        10                    GoldenEye (1995)   \n",
       "10       11      American President, The (1995)   \n",
       "\n",
       "                                         genres  \n",
       "0   Adventure|Animation|Children|Comedy|Fantasy  \n",
       "1                    Adventure|Children|Fantasy  \n",
       "2                                Comedy|Romance  \n",
       "3                          Comedy|Drama|Romance  \n",
       "4                                        Comedy  \n",
       "5                         Action|Crime|Thriller  \n",
       "6                                Comedy|Romance  \n",
       "7                            Adventure|Children  \n",
       "8                                        Action  \n",
       "9                     Action|Adventure|Thriller  \n",
       "10                         Comedy|Drama|Romance  "
      ]
     },
     "execution_count": 4,
     "metadata": {},
     "output_type": "execute_result"
    }
   ],
   "source": [
    "ml_df.loc[:10]"
   ]
  },
  {
   "cell_type": "markdown",
   "metadata": {},
   "source": [
    "- MOVIE LENS 데이터에 같은 영화 제목이 존재하는지 확인"
   ]
  },
  {
   "cell_type": "code",
   "execution_count": 5,
   "metadata": {},
   "outputs": [
    {
     "name": "stdout",
     "output_type": "stream",
     "text": [
      "Kingdom Come (2001)\n",
      "Kingdom Come (2014)\n",
      "WWE: Triple H: Thy Kingdom Come (2013)\n"
     ]
    }
   ],
   "source": [
    "trg_data = 'Kingdom Come'.lower().replace(' ', '')\n",
    "for line in ml_df.iterrows():\n",
    "    if trg_data in line[1]['title'].lower().replace(' ', ''):\n",
    "        print(line[1]['title'])"
   ]
  },
  {
   "cell_type": "code",
   "execution_count": 6,
   "metadata": {},
   "outputs": [
    {
     "data": {
      "text/plain": [
       "'2013'"
      ]
     },
     "execution_count": 6,
     "metadata": {},
     "output_type": "execute_result"
    }
   ],
   "source": [
    "test_tm_rd = str(tm_df.loc[0,'release_date'])[:4]\n",
    "test_tm_rd"
   ]
  },
  {
   "cell_type": "code",
   "execution_count": 7,
   "metadata": {},
   "outputs": [
    {
     "data": {
      "text/plain": [
       "58098"
      ]
     },
     "execution_count": 7,
     "metadata": {},
     "output_type": "execute_result"
    }
   ],
   "source": [
    "len(ml_df)"
   ]
  },
  {
   "cell_type": "code",
   "execution_count": 8,
   "metadata": {
    "scrolled": false
   },
   "outputs": [
    {
     "data": {
      "text/html": [
       "<div>\n",
       "<style scoped>\n",
       "    .dataframe tbody tr th:only-of-type {\n",
       "        vertical-align: middle;\n",
       "    }\n",
       "\n",
       "    .dataframe tbody tr th {\n",
       "        vertical-align: top;\n",
       "    }\n",
       "\n",
       "    .dataframe thead th {\n",
       "        text-align: right;\n",
       "    }\n",
       "</style>\n",
       "<table border=\"1\" class=\"dataframe\">\n",
       "  <thead>\n",
       "    <tr style=\"text-align: right;\">\n",
       "      <th></th>\n",
       "      <th>movieId</th>\n",
       "      <th>title</th>\n",
       "      <th>genres</th>\n",
       "    </tr>\n",
       "  </thead>\n",
       "  <tbody>\n",
       "    <tr>\n",
       "      <th>19370</th>\n",
       "      <td>95595</td>\n",
       "      <td>Bela Kiss: Prologue (2013)</td>\n",
       "      <td>Horror|Mystery|Thriller</td>\n",
       "    </tr>\n",
       "    <tr>\n",
       "      <th>20263</th>\n",
       "      <td>99007</td>\n",
       "      <td>Warm Bodies (2013)</td>\n",
       "      <td>Comedy|Horror|Romance</td>\n",
       "    </tr>\n",
       "    <tr>\n",
       "      <th>20343</th>\n",
       "      <td>99335</td>\n",
       "      <td>Addicted (2013)</td>\n",
       "      <td>Drama</td>\n",
       "    </tr>\n",
       "    <tr>\n",
       "      <th>20447</th>\n",
       "      <td>99721</td>\n",
       "      <td>Texas Chainsaw 3D (2013)</td>\n",
       "      <td>Horror|Mystery|Thriller</td>\n",
       "    </tr>\n",
       "    <tr>\n",
       "      <th>20450</th>\n",
       "      <td>99728</td>\n",
       "      <td>Gangster Squad (2013)</td>\n",
       "      <td>Action|Crime|Drama</td>\n",
       "    </tr>\n",
       "    <tr>\n",
       "      <th>...</th>\n",
       "      <td>...</td>\n",
       "      <td>...</td>\n",
       "      <td>...</td>\n",
       "    </tr>\n",
       "    <tr>\n",
       "      <th>57845</th>\n",
       "      <td>193289</td>\n",
       "      <td>The Optimists (2013)</td>\n",
       "      <td>Documentary</td>\n",
       "    </tr>\n",
       "    <tr>\n",
       "      <th>57890</th>\n",
       "      <td>193403</td>\n",
       "      <td>A Talking Cat!?! (2013)</td>\n",
       "      <td>Children|Comedy|Fantasy</td>\n",
       "    </tr>\n",
       "    <tr>\n",
       "      <th>57906</th>\n",
       "      <td>193457</td>\n",
       "      <td>Somewhere Else Tomorrow (2013)</td>\n",
       "      <td>Documentary</td>\n",
       "    </tr>\n",
       "    <tr>\n",
       "      <th>57912</th>\n",
       "      <td>193469</td>\n",
       "      <td>The Happy Sad (2013)</td>\n",
       "      <td>(no genres listed)</td>\n",
       "    </tr>\n",
       "    <tr>\n",
       "      <th>57957</th>\n",
       "      <td>193567</td>\n",
       "      <td>anohana: The Flower We Saw That Day - The Movi...</td>\n",
       "      <td>Animation|Drama</td>\n",
       "    </tr>\n",
       "  </tbody>\n",
       "</table>\n",
       "<p>2188 rows × 3 columns</p>\n",
       "</div>"
      ],
      "text/plain": [
       "       movieId                                              title  \\\n",
       "19370    95595                         Bela Kiss: Prologue (2013)   \n",
       "20263    99007                                 Warm Bodies (2013)   \n",
       "20343    99335                                    Addicted (2013)   \n",
       "20447    99721                           Texas Chainsaw 3D (2013)   \n",
       "20450    99728                              Gangster Squad (2013)   \n",
       "...        ...                                                ...   \n",
       "57845   193289                               The Optimists (2013)   \n",
       "57890   193403                            A Talking Cat!?! (2013)   \n",
       "57906   193457                     Somewhere Else Tomorrow (2013)   \n",
       "57912   193469                               The Happy Sad (2013)   \n",
       "57957   193567  anohana: The Flower We Saw That Day - The Movi...   \n",
       "\n",
       "                        genres  \n",
       "19370  Horror|Mystery|Thriller  \n",
       "20263    Comedy|Horror|Romance  \n",
       "20343                    Drama  \n",
       "20447  Horror|Mystery|Thriller  \n",
       "20450       Action|Crime|Drama  \n",
       "...                        ...  \n",
       "57845              Documentary  \n",
       "57890  Children|Comedy|Fantasy  \n",
       "57906              Documentary  \n",
       "57912       (no genres listed)  \n",
       "57957          Animation|Drama  \n",
       "\n",
       "[2188 rows x 3 columns]"
      ]
     },
     "execution_count": 8,
     "metadata": {},
     "output_type": "execute_result"
    }
   ],
   "source": [
    "ml_df.loc[ml_df['title'].str.contains(test_tm_rd)]"
   ]
  },
  {
   "cell_type": "code",
   "execution_count": 9,
   "metadata": {
    "scrolled": false
   },
   "outputs": [
    {
     "data": {
      "text/html": [
       "<div>\n",
       "<style scoped>\n",
       "    .dataframe tbody tr th:only-of-type {\n",
       "        vertical-align: middle;\n",
       "    }\n",
       "\n",
       "    .dataframe tbody tr th {\n",
       "        vertical-align: top;\n",
       "    }\n",
       "\n",
       "    .dataframe thead th {\n",
       "        text-align: right;\n",
       "    }\n",
       "</style>\n",
       "<table border=\"1\" class=\"dataframe\">\n",
       "  <thead>\n",
       "    <tr style=\"text-align: right;\">\n",
       "      <th></th>\n",
       "      <th>id</th>\n",
       "      <th>imdb_id</th>\n",
       "      <th>original_title</th>\n",
       "      <th>release_date</th>\n",
       "    </tr>\n",
       "  </thead>\n",
       "  <tbody>\n",
       "    <tr>\n",
       "      <th>0</th>\n",
       "      <td>141210</td>\n",
       "      <td>tt2250194</td>\n",
       "      <td>The Sleepover</td>\n",
       "      <td>2013-10-12</td>\n",
       "    </tr>\n",
       "    <tr>\n",
       "      <th>1</th>\n",
       "      <td>143750</td>\n",
       "      <td>tt2140519</td>\n",
       "      <td>The Farmer's Wife</td>\n",
       "      <td>2012-06-20</td>\n",
       "    </tr>\n",
       "    <tr>\n",
       "      <th>2</th>\n",
       "      <td>31610</td>\n",
       "      <td>tt0162711</td>\n",
       "      <td>Trixie</td>\n",
       "      <td>2000-06-28</td>\n",
       "    </tr>\n",
       "    <tr>\n",
       "      <th>3</th>\n",
       "      <td>29122</td>\n",
       "      <td>tt0218182</td>\n",
       "      <td>An Everlasting Piece</td>\n",
       "      <td>2000-12-22</td>\n",
       "    </tr>\n",
       "    <tr>\n",
       "      <th>4</th>\n",
       "      <td>68894</td>\n",
       "      <td>tt0238588</td>\n",
       "      <td>Shadow Magic</td>\n",
       "      <td>2000-09-08</td>\n",
       "    </tr>\n",
       "    <tr>\n",
       "      <th>5</th>\n",
       "      <td>136558</td>\n",
       "      <td>tt2043893</td>\n",
       "      <td>Kingdom Come</td>\n",
       "      <td>2011-01-01</td>\n",
       "    </tr>\n",
       "  </tbody>\n",
       "</table>\n",
       "</div>"
      ],
      "text/plain": [
       "       id    imdb_id        original_title release_date\n",
       "0  141210  tt2250194         The Sleepover   2013-10-12\n",
       "1  143750  tt2140519     The Farmer's Wife   2012-06-20\n",
       "2   31610  tt0162711                Trixie   2000-06-28\n",
       "3   29122  tt0218182  An Everlasting Piece   2000-12-22\n",
       "4   68894  tt0238588          Shadow Magic   2000-09-08\n",
       "5  136558  tt2043893          Kingdom Come   2011-01-01"
      ]
     },
     "execution_count": 9,
     "metadata": {},
     "output_type": "execute_result"
    }
   ],
   "source": [
    "tm_df.loc[:5,['id','imdb_id', 'original_title', 'release_date']]"
   ]
  },
  {
   "cell_type": "markdown",
   "metadata": {},
   "source": [
    "### 3. 데이터 결합 알고리즘"
   ]
  },
  {
   "cell_type": "code",
   "execution_count": 10,
   "metadata": {},
   "outputs": [],
   "source": [
    "# 완료된 데이터를 적재할 DataFrame\n",
    "concated_data = pd.DataFrame(columns=['ml_id','tm_id','imdb_id','title_new','genres','release_date'])\n",
    "if os.path.exists('db/concated_data.csv'):\n",
    "    concated_data = pd.read_csv('db/concated_data.csv', index_col=0)\n",
    "# 분류에 실패한 TM 데이터\n",
    "failed_tm_data = pd.DataFrame(columns=['tm_id','title_new'])\n",
    "if os.path.exists('db/failed_tm_data.csv'):\n",
    "    failed_tm_data = pd.read_csv('db/failed_tm_data.csv', index_col=0)"
   ]
  },
  {
   "cell_type": "markdown",
   "metadata": {},
   "source": [
    "- C: 완료된 수\n",
    "- F: 실패한 수"
   ]
  },
  {
   "cell_type": "code",
   "execution_count": 12,
   "metadata": {
    "scrolled": true
   },
   "outputs": [
    {
     "name": "stdout",
     "output_type": "stream",
     "text": [
      "Complete!\n",
      "COMPLETE - [9939/9939] [C:7469, F:2455] [####################] 100%\n",
      "processing time: 663.9s\n"
     ]
    }
   ],
   "source": [
    "# 분류!\n",
    "start_time = time.time() # 처리 시간을 확인하기 위함입니다.\n",
    "total_len = len(tm_df)\n",
    "for line1 in tm_df.iterrows():\n",
    "    if line1[1]['id'] in concated_data.loc[:,'tm_id'].values.tolist() or line1[1]['id'] in failed_tm_data.loc[:,'tm_id'].values.tolist():\n",
    "        continue\n",
    "    complete_switch = False\n",
    "    temp_tm_title = str(line1[1]['original_title']).lower().replace(' ', '')\n",
    "    temp_tm_rd = str(line1[1]['release_date'])[:4]\n",
    "    for line2 in ml_df.loc[ml_df['title'].str.contains(temp_tm_rd)].iterrows():\n",
    "        if temp_tm_title in line2[1]['title'].lower().replace(' ', ''):\n",
    "            if temp_tm_rd in line2[1]['title'].lower().replace(' ', ''):\n",
    "                concated_data.loc[len(concated_data),list(concated_data.columns)] = [line2[1]['movieId'],line1[1]['id'],line1[1]['imdb_id'],\n",
    "                                                     line1[1]['original_title'],line2[1]['genres'],line1[1]['release_date']]\n",
    "                complete_switch = True\n",
    "                break\n",
    "    if not complete_switch:\n",
    "        failed_tm_data.loc[len(failed_tm_data),list(failed_tm_data.columns)] = [line1[1]['id'],line1[1]['original_title']]\n",
    "    \n",
    "    # 5개마다 저장\n",
    "    if len(concated_data) != 0 and len(concated_data) % 5 == 0:\n",
    "        concated_data.to_csv('db/concated_data.csv', index=True)\n",
    "    \n",
    "    if len(failed_tm_data) != 0 and len(failed_tm_data) % 5 == 0:\n",
    "        failed_tm_data.to_csv('db/failed_tm_data.csv', index=True)\n",
    "        \n",
    "    # 작업이 100개 완료될 때마다 정보 출력\n",
    "    if (line1[0]+1) % 100 == 0:\n",
    "        clear_output(wait = True)\n",
    "        blockCount = int(math.floor(((line1[0]+1)/total_len)*20))\n",
    "        dur_time = time.time()-start_time\n",
    "        dur_expected_time = dur_time*(total_len/line1[0]+1)\n",
    "        print(\"Preprocessing!\")\n",
    "        print('PROGRESS - [{:d}/{:d}] [C:{:d}, F:{:d}] [{:}] {:.0%}'.format(line1[0]+1, total_len, len(concated_data), len(failed_tm_data), '#' * blockCount + '-' * (20 - blockCount), (line1[0]+1)/total_len))\n",
    "        print('Processing time: {:.1f}s / {:.0f}s [{:.0f}s]'.format(dur_time, dur_expected_time, dur_expected_time-dur_time))\n",
    "concated_data.to_csv('db/concated_data.csv', index=True)\n",
    "failed_tm_data.to_csv('db/failed_tm_data.csv', index=True)\n",
    "end_time = time.time()\n",
    "clear_output(wait = True)\n",
    "print(\"Complete!\")\n",
    "print('COMPLETE - [{:d}/{:d}] [C:{:d}, F:{:d}] [{:}] 100%'.format(total_len, total_len, len(concated_data), len(failed_tm_data), '#' * 20))\n",
    "print('processing time: {:.1f}s'.format(end_time-start_time))"
   ]
  },
  {
   "cell_type": "markdown",
   "metadata": {},
   "source": [
    "### 4. 성공 데이터 확인"
   ]
  },
  {
   "cell_type": "code",
   "execution_count": 16,
   "metadata": {},
   "outputs": [
    {
     "data": {
      "text/html": [
       "<div>\n",
       "<style scoped>\n",
       "    .dataframe tbody tr th:only-of-type {\n",
       "        vertical-align: middle;\n",
       "    }\n",
       "\n",
       "    .dataframe tbody tr th {\n",
       "        vertical-align: top;\n",
       "    }\n",
       "\n",
       "    .dataframe thead th {\n",
       "        text-align: right;\n",
       "    }\n",
       "</style>\n",
       "<table border=\"1\" class=\"dataframe\">\n",
       "  <thead>\n",
       "    <tr style=\"text-align: right;\">\n",
       "      <th></th>\n",
       "      <th>ml_id</th>\n",
       "      <th>tm_id</th>\n",
       "      <th>imdb_id</th>\n",
       "      <th>title_new</th>\n",
       "      <th>genres</th>\n",
       "      <th>release_date</th>\n",
       "    </tr>\n",
       "  </thead>\n",
       "  <tbody>\n",
       "    <tr>\n",
       "      <th>0</th>\n",
       "      <td>3721</td>\n",
       "      <td>31610</td>\n",
       "      <td>tt0162711</td>\n",
       "      <td>Trixie</td>\n",
       "      <td>Comedy|Crime|Mystery</td>\n",
       "      <td>2000-06-28 00:00:00</td>\n",
       "    </tr>\n",
       "    <tr>\n",
       "      <th>1</th>\n",
       "      <td>4245</td>\n",
       "      <td>68894</td>\n",
       "      <td>tt0238588</td>\n",
       "      <td>Shadow Magic</td>\n",
       "      <td>Drama|Romance</td>\n",
       "      <td>2000-09-08 00:00:00</td>\n",
       "    </tr>\n",
       "    <tr>\n",
       "      <th>2</th>\n",
       "      <td>4742</td>\n",
       "      <td>248757</td>\n",
       "      <td>tt0160710</td>\n",
       "      <td>Punks</td>\n",
       "      <td>Comedy</td>\n",
       "      <td>2000-01-24 00:00:00</td>\n",
       "    </tr>\n",
       "    <tr>\n",
       "      <th>3</th>\n",
       "      <td>4891</td>\n",
       "      <td>140511</td>\n",
       "      <td>tt0177888</td>\n",
       "      <td>King of the Jungle</td>\n",
       "      <td>Drama|Thriller</td>\n",
       "      <td>2000-10-12 00:00:00</td>\n",
       "    </tr>\n",
       "    <tr>\n",
       "      <th>4</th>\n",
       "      <td>4991</td>\n",
       "      <td>292917</td>\n",
       "      <td>tt0274868</td>\n",
       "      <td>Some Body</td>\n",
       "      <td>Comedy|Drama|Romance</td>\n",
       "      <td>2001-01-19 00:00:00</td>\n",
       "    </tr>\n",
       "    <tr>\n",
       "      <th>...</th>\n",
       "      <td>...</td>\n",
       "      <td>...</td>\n",
       "      <td>...</td>\n",
       "      <td>...</td>\n",
       "      <td>...</td>\n",
       "      <td>...</td>\n",
       "    </tr>\n",
       "    <tr>\n",
       "      <th>7464</th>\n",
       "      <td>103454</td>\n",
       "      <td>155</td>\n",
       "      <td>tt0468569</td>\n",
       "      <td>The Dark Knight</td>\n",
       "      <td>Documentary</td>\n",
       "      <td>2008-07-16 00:00:00</td>\n",
       "    </tr>\n",
       "    <tr>\n",
       "      <th>7465</th>\n",
       "      <td>79132</td>\n",
       "      <td>27205</td>\n",
       "      <td>tt1375666</td>\n",
       "      <td>Inception</td>\n",
       "      <td>Action|Crime|Drama|Mystery|Sci-Fi|Thriller|IMAX</td>\n",
       "      <td>2010-07-14 00:00:00</td>\n",
       "    </tr>\n",
       "    <tr>\n",
       "      <th>7466</th>\n",
       "      <td>122912</td>\n",
       "      <td>299536</td>\n",
       "      <td>tt4154756</td>\n",
       "      <td>Avengers: Infinity War</td>\n",
       "      <td>Action|Adventure|Sci-Fi</td>\n",
       "      <td>2018-04-25 00:00:00</td>\n",
       "    </tr>\n",
       "    <tr>\n",
       "      <th>7467</th>\n",
       "      <td>89104</td>\n",
       "      <td>18634</td>\n",
       "      <td>tt0450367</td>\n",
       "      <td>Puzzlehead</td>\n",
       "      <td>Drama|Sci-Fi</td>\n",
       "      <td>2005-04-21 00:00:00</td>\n",
       "    </tr>\n",
       "    <tr>\n",
       "      <th>7468</th>\n",
       "      <td>108529</td>\n",
       "      <td>92834</td>\n",
       "      <td>tt0399854</td>\n",
       "      <td>Vizontele Tuuba</td>\n",
       "      <td>Comedy|Drama</td>\n",
       "      <td>2004-01-21 00:00:00</td>\n",
       "    </tr>\n",
       "  </tbody>\n",
       "</table>\n",
       "<p>7469 rows × 6 columns</p>\n",
       "</div>"
      ],
      "text/plain": [
       "       ml_id   tm_id    imdb_id               title_new  \\\n",
       "0       3721   31610  tt0162711                  Trixie   \n",
       "1       4245   68894  tt0238588            Shadow Magic   \n",
       "2       4742  248757  tt0160710                   Punks   \n",
       "3       4891  140511  tt0177888      King of the Jungle   \n",
       "4       4991  292917  tt0274868               Some Body   \n",
       "...      ...     ...        ...                     ...   \n",
       "7464  103454     155  tt0468569         The Dark Knight   \n",
       "7465   79132   27205  tt1375666               Inception   \n",
       "7466  122912  299536  tt4154756  Avengers: Infinity War   \n",
       "7467   89104   18634  tt0450367              Puzzlehead   \n",
       "7468  108529   92834  tt0399854         Vizontele Tuuba   \n",
       "\n",
       "                                               genres         release_date  \n",
       "0                                Comedy|Crime|Mystery  2000-06-28 00:00:00  \n",
       "1                                       Drama|Romance  2000-09-08 00:00:00  \n",
       "2                                              Comedy  2000-01-24 00:00:00  \n",
       "3                                      Drama|Thriller  2000-10-12 00:00:00  \n",
       "4                                Comedy|Drama|Romance  2001-01-19 00:00:00  \n",
       "...                                               ...                  ...  \n",
       "7464                                      Documentary  2008-07-16 00:00:00  \n",
       "7465  Action|Crime|Drama|Mystery|Sci-Fi|Thriller|IMAX  2010-07-14 00:00:00  \n",
       "7466                          Action|Adventure|Sci-Fi  2018-04-25 00:00:00  \n",
       "7467                                     Drama|Sci-Fi  2005-04-21 00:00:00  \n",
       "7468                                     Comedy|Drama  2004-01-21 00:00:00  \n",
       "\n",
       "[7469 rows x 6 columns]"
      ]
     },
     "execution_count": 16,
     "metadata": {},
     "output_type": "execute_result"
    }
   ],
   "source": [
    "concated_data"
   ]
  },
  {
   "cell_type": "markdown",
   "metadata": {},
   "source": [
    "### 5. 실패 데이터 확인"
   ]
  },
  {
   "cell_type": "code",
   "execution_count": 14,
   "metadata": {},
   "outputs": [
    {
     "data": {
      "text/html": [
       "<div>\n",
       "<style scoped>\n",
       "    .dataframe tbody tr th:only-of-type {\n",
       "        vertical-align: middle;\n",
       "    }\n",
       "\n",
       "    .dataframe tbody tr th {\n",
       "        vertical-align: top;\n",
       "    }\n",
       "\n",
       "    .dataframe thead th {\n",
       "        text-align: right;\n",
       "    }\n",
       "</style>\n",
       "<table border=\"1\" class=\"dataframe\">\n",
       "  <thead>\n",
       "    <tr style=\"text-align: right;\">\n",
       "      <th></th>\n",
       "      <th>tm_id</th>\n",
       "      <th>title_new</th>\n",
       "    </tr>\n",
       "  </thead>\n",
       "  <tbody>\n",
       "    <tr>\n",
       "      <th>0</th>\n",
       "      <td>141210</td>\n",
       "      <td>The Sleepover</td>\n",
       "    </tr>\n",
       "    <tr>\n",
       "      <th>1</th>\n",
       "      <td>143750</td>\n",
       "      <td>The Farmer's Wife</td>\n",
       "    </tr>\n",
       "    <tr>\n",
       "      <th>2</th>\n",
       "      <td>29122</td>\n",
       "      <td>An Everlasting Piece</td>\n",
       "    </tr>\n",
       "    <tr>\n",
       "      <th>3</th>\n",
       "      <td>136558</td>\n",
       "      <td>Kingdom Come</td>\n",
       "    </tr>\n",
       "    <tr>\n",
       "      <th>4</th>\n",
       "      <td>55479</td>\n",
       "      <td>Pi챰ero</td>\n",
       "    </tr>\n",
       "    <tr>\n",
       "      <th>...</th>\n",
       "      <td>...</td>\n",
       "      <td>...</td>\n",
       "    </tr>\n",
       "    <tr>\n",
       "      <th>2450</th>\n",
       "      <td>429617</td>\n",
       "      <td>Spider-Man: Far From Home</td>\n",
       "    </tr>\n",
       "    <tr>\n",
       "      <th>2451</th>\n",
       "      <td>335983</td>\n",
       "      <td>Venom</td>\n",
       "    </tr>\n",
       "    <tr>\n",
       "      <th>2452</th>\n",
       "      <td>24428</td>\n",
       "      <td>The Avengers</td>\n",
       "    </tr>\n",
       "    <tr>\n",
       "      <th>2453</th>\n",
       "      <td>475557</td>\n",
       "      <td>Joker</td>\n",
       "    </tr>\n",
       "    <tr>\n",
       "      <th>2454</th>\n",
       "      <td>299534</td>\n",
       "      <td>Avengers: Endgame</td>\n",
       "    </tr>\n",
       "  </tbody>\n",
       "</table>\n",
       "<p>2455 rows × 2 columns</p>\n",
       "</div>"
      ],
      "text/plain": [
       "       tm_id                  title_new\n",
       "0     141210              The Sleepover\n",
       "1     143750          The Farmer's Wife\n",
       "2      29122       An Everlasting Piece\n",
       "3     136558               Kingdom Come\n",
       "4      55479                     Pi챰ero\n",
       "...      ...                        ...\n",
       "2450  429617  Spider-Man: Far From Home\n",
       "2451  335983                      Venom\n",
       "2452   24428               The Avengers\n",
       "2453  475557                      Joker\n",
       "2454  299534          Avengers: Endgame\n",
       "\n",
       "[2455 rows x 2 columns]"
      ]
     },
     "execution_count": 14,
     "metadata": {},
     "output_type": "execute_result"
    }
   ],
   "source": [
    "failed_tm_data"
   ]
  },
  {
   "cell_type": "code",
   "execution_count": null,
   "metadata": {},
   "outputs": [],
   "source": []
  },
  {
   "cell_type": "code",
   "execution_count": null,
   "metadata": {},
   "outputs": [],
   "source": []
  }
 ],
 "metadata": {
  "kernelspec": {
   "display_name": "Python 3 (ipykernel)",
   "language": "python",
   "name": "python3"
  },
  "language_info": {
   "codemirror_mode": {
    "name": "ipython",
    "version": 3
   },
   "file_extension": ".py",
   "mimetype": "text/x-python",
   "name": "python",
   "nbconvert_exporter": "python",
   "pygments_lexer": "ipython3",
   "version": "3.9.7"
  }
 },
 "nbformat": 4,
 "nbformat_minor": 4
}
